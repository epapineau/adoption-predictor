{
 "cells": [
  {
   "cell_type": "code",
   "execution_count": 1,
   "metadata": {},
   "outputs": [],
   "source": [
    "import statistics\n",
    "import pandas as pd\n",
    "from sqlalchemy import create_engine"
   ]
  },
  {
   "cell_type": "code",
   "execution_count": 2,
   "metadata": {},
   "outputs": [],
   "source": [
    "# Import datasets\n",
    "trainData = pd.read_csv(\"../data/train/train.csv\")\n",
    "sentimentScore = pd.read_csv(\"../data/train/sentimentScores.csv\")"
   ]
  },
  {
   "cell_type": "code",
   "execution_count": 3,
   "metadata": {},
   "outputs": [],
   "source": [
    "# Count words in descirptions for analysis\n",
    "sentences = trainData['Description'].tolist()\n",
    "counts = []\n",
    "for sent in sentences:\n",
    "    sent = str(sent)\n",
    "    numWords = len(str.split(sent))\n",
    "    counts.append(numWords)\n",
    "trainData['DescriptionLength'] = counts"
   ]
  },
  {
   "cell_type": "code",
   "execution_count": 4,
   "metadata": {},
   "outputs": [],
   "source": [
    "# Get mean sentiment score\n",
    "pets = trainData['PetID'].tolist()\n",
    "means = []\n",
    "for pet in pets:\n",
    "    scores = sentimentScore.loc[sentimentScore['PetID'] == pet]\n",
    "    # meanMag = statistics.mean(scores['SentimentMagnitude'])\n",
    "    meanScore = statistics.mean(scores['SentimentScore'])\n",
    "    means.append(meanScore)\n",
    "trainData['MeanSentimentScore'] = means"
   ]
  },
  {
   "cell_type": "code",
   "execution_count": 5,
   "metadata": {},
   "outputs": [],
   "source": [
    "breedLabels = pd.read_csv(\"../data/breed_labels.csv\")\n",
    "stateLabels = pd.read_csv(\"../data/state_labels.csv\")\n",
    "colorLabels = pd.read_csv(\"../data/color_labels.csv\")"
   ]
  },
  {
   "cell_type": "code",
   "execution_count": 6,
   "metadata": {},
   "outputs": [],
   "source": [
    "trainData = trainData.merge(breedLabels, how = \"left\",\n",
    "                            left_on = [\"Type\", \"Breed1\"],\n",
    "                            right_on = [\"Type\", \"BreedID\"])\n",
    "trainData = trainData.merge(breedLabels, how = \"left\",\n",
    "                            left_on = [\"Type\", \"Breed2\"],\n",
    "                            right_on = [\"Type\", \"BreedID\"])\n",
    "trainData = trainData.merge(colorLabels, how = \"left\",\n",
    "                            left_on = \"Color1\",\n",
    "                            right_on = \"ColorID\")\n",
    "trainData = trainData.merge(colorLabels, how = \"left\",\n",
    "                            left_on = \"Color2\",\n",
    "                            right_on = \"ColorID\")\n",
    "trainData = trainData.merge(colorLabels, how = \"left\",\n",
    "                            left_on = \"Color3\",\n",
    "                            right_on = \"ColorID\")\n",
    "trainData = trainData.merge(stateLabels, how = \"left\",\n",
    "                            left_on = \"State\",\n",
    "                            right_on = \"StateID\")\n",
    "trainData = trainData.drop([\"BreedID_x\", \"BreedID_y\", \"ColorID_x\", \"ColorID_y\", \"ColorID\", \"StateID\"], axis = 1)\n",
    "trainData = trainData.rename(columns = {'BreedName_x': 'BreedName1',\n",
    "                                        'BreedName_y': 'BreedName2',\n",
    "                                        'ColorName_x': 'ColorName1',\n",
    "                                        'ColorName_y': 'ColorName2',\n",
    "                                        'ColorName': 'ColorName3'})"
   ]
  },
  {
   "cell_type": "code",
   "execution_count": 8,
   "metadata": {},
   "outputs": [],
   "source": [
    "# Send to sqlite\n",
    "engine = create_engine('sqlite:///../db/database.sqlite')\n",
    "trainData.to_sql('Pet_Training_Data', con = engine, index = False)"
   ]
  },
  {
   "cell_type": "code",
   "execution_count": 9,
   "metadata": {},
   "outputs": [
    {
     "data": {
      "text/plain": [
       "Type                    int64\n",
       "Name                   object\n",
       "Age                     int64\n",
       "Breed1                  int64\n",
       "Breed2                  int64\n",
       "Gender                  int64\n",
       "Color1                  int64\n",
       "Color2                  int64\n",
       "Color3                  int64\n",
       "MaturitySize            int64\n",
       "FurLength               int64\n",
       "Vaccinated              int64\n",
       "Dewormed                int64\n",
       "Sterilized              int64\n",
       "Health                  int64\n",
       "Quantity                int64\n",
       "Fee                     int64\n",
       "State                   int64\n",
       "RescuerID              object\n",
       "VideoAmt                int64\n",
       "Description            object\n",
       "PetID                  object\n",
       "PhotoAmt              float64\n",
       "AdoptionSpeed           int64\n",
       "DescriptionLength       int64\n",
       "MeanSentimentScore    float64\n",
       "BreedName1             object\n",
       "BreedName2             object\n",
       "ColorName1             object\n",
       "ColorName2             object\n",
       "ColorName3             object\n",
       "StateName              object\n",
       "dtype: object"
      ]
     },
     "execution_count": 9,
     "metadata": {},
     "output_type": "execute_result"
    }
   ],
   "source": [
    "trainData.dtypes"
   ]
  }
 ],
 "metadata": {
  "kernelspec": {
   "display_name": "Python [conda env:PythonData]",
   "language": "python",
   "name": "conda-env-PythonData-py"
  },
  "language_info": {
   "codemirror_mode": {
    "name": "ipython",
    "version": 3
   },
   "file_extension": ".py",
   "mimetype": "text/x-python",
   "name": "python",
   "nbconvert_exporter": "python",
   "pygments_lexer": "ipython3",
   "version": "3.6.6"
  }
 },
 "nbformat": 4,
 "nbformat_minor": 2
}
