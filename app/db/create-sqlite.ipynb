{
 "cells": [
  {
   "cell_type": "code",
   "execution_count": 1,
   "metadata": {},
   "outputs": [],
   "source": [
    "import statistics\n",
    "import pandas as pd\n",
    "from sqlalchemy import create_engine"
   ]
  },
  {
   "cell_type": "code",
   "execution_count": 2,
   "metadata": {},
   "outputs": [],
   "source": [
    "# Import datasets\n",
    "trainData = pd.read_csv(\"./app/data/train/train.csv\")\n",
    "sentimentScore = pd.read_csv(\"./app/data/train/sentimentScores.csv\")"
   ]
  },
  {
   "cell_type": "code",
   "execution_count": 3,
   "metadata": {},
   "outputs": [],
   "source": [
    "# Count words in descirptions for analysis\n",
    "sentences = trainData['Description'].tolist()\n",
    "counts = []\n",
    "for sent in sentences:\n",
    "    sent = str(sent)\n",
    "    numWords = len(str.split(sent))\n",
    "    counts.append(numWords)\n",
    "trainData['DescriptionLength'] = counts"
   ]
  },
  {
   "cell_type": "code",
   "execution_count": 4,
   "metadata": {},
   "outputs": [],
   "source": [
    "# Get mean sentiment score\n",
    "pets = trainData['PetID'].tolist()\n",
    "means = []\n",
    "for pet in pets:\n",
    "    scores = sentimentScore.loc[sentimentScore['PetID'] == pet]\n",
    "    # meanMag = statistics.mean(scores['SentimentMagnitude'])\n",
    "    meanScore = statistics.mean(scores['SentimentScore'])\n",
    "    means.append(meanScore)\n",
    "trainData['MeanSentimentScore'] = means"
   ]
  },
  {
   "cell_type": "code",
   "execution_count": 5,
   "metadata": {},
   "outputs": [],
   "source": [
    "breedLabels = pd.read_csv(\"./app/data/breed_labels.csv\")\n",
    "stateLabels = pd.read_csv(\"./app/data/state_labels.csv\")\n",
    "colorLabels = pd.read_csv(\"./app/data/color_labels.csv\")"
   ]
  },
  {
   "cell_type": "code",
   "execution_count": 6,
   "metadata": {},
   "outputs": [],
   "source": [
    "# Send to sqlite\n",
    "engine = create_engine('sqlite:///./app/db/database.sqlite')\n",
    "trainData.to_sql('Pet_Training_Data', con = engine)\n",
    "breedLabels.to_sql('Breed_Labels', con = engine)\n",
    "stateLabels.to_sql('State_Labels', con = engine)\n",
    "colorLabels.to_sql('Color_Labels', con = engine)"
   ]
  }
 ],
 "metadata": {
  "kernelspec": {
   "display_name": "Python [conda env:PythonData]",
   "language": "python",
   "name": "conda-env-PythonData-py"
  },
  "language_info": {
   "codemirror_mode": {
    "name": "ipython",
    "version": 3
   },
   "file_extension": ".py",
   "mimetype": "text/x-python",
   "name": "python",
   "nbconvert_exporter": "python",
   "pygments_lexer": "ipython3",
   "version": "3.6.6"
  }
 },
 "nbformat": 4,
 "nbformat_minor": 2
}
